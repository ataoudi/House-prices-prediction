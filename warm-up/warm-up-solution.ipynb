{
 "cells": [
  {
   "cell_type": "markdown",
   "metadata": {},
   "source": [
    "# <center>Part 1 - Warm-up</center>"
   ]
  },
  {
   "cell_type": "code",
   "execution_count": 1,
   "metadata": {},
   "outputs": [],
   "source": [
    "import pandas as pd\n",
    "import numpy as np\n",
    "import matplotlib.pyplot as plt \n",
    "import seaborn as sns\n",
    "from sklearn.linear_model import LinearRegression, HuberRegressor\n",
    "from sklearn.metrics import r2_score, mean_absolute_error\n",
    "from sklearn.model_selection import train_test_split\n",
    "from scipy.stats import zscore\n",
    "sns.set()\n",
    "%matplotlib inline"
   ]
  },
  {
   "cell_type": "markdown",
   "metadata": {},
   "source": [
    "# Task 1\n",
    "The first task consists of fitting the following equation to a set of 50 x/y data points.<br>\n",
    "*$y = a* log(x) + b$*\n",
    "\n",
    "- Read data"
   ]
  },
  {
   "cell_type": "code",
   "execution_count": 2,
   "metadata": {},
   "outputs": [],
   "source": [
    "data=pd.read_csv('task-1.csv')"
   ]
  },
  {
   "cell_type": "code",
   "execution_count": 3,
   "metadata": {},
   "outputs": [
    {
     "data": {
      "text/html": [
       "<div>\n",
       "<style scoped>\n",
       "    .dataframe tbody tr th:only-of-type {\n",
       "        vertical-align: middle;\n",
       "    }\n",
       "\n",
       "    .dataframe tbody tr th {\n",
       "        vertical-align: top;\n",
       "    }\n",
       "\n",
       "    .dataframe thead th {\n",
       "        text-align: right;\n",
       "    }\n",
       "</style>\n",
       "<table border=\"1\" class=\"dataframe\">\n",
       "  <thead>\n",
       "    <tr style=\"text-align: right;\">\n",
       "      <th></th>\n",
       "      <th>x</th>\n",
       "      <th>y</th>\n",
       "    </tr>\n",
       "  </thead>\n",
       "  <tbody>\n",
       "    <tr>\n",
       "      <th>0</th>\n",
       "      <td>10.529</td>\n",
       "      <td>39.105</td>\n",
       "    </tr>\n",
       "    <tr>\n",
       "      <th>1</th>\n",
       "      <td>10.799</td>\n",
       "      <td>40.584</td>\n",
       "    </tr>\n",
       "    <tr>\n",
       "      <th>2</th>\n",
       "      <td>11.698</td>\n",
       "      <td>39.883</td>\n",
       "    </tr>\n",
       "    <tr>\n",
       "      <th>3</th>\n",
       "      <td>12.851</td>\n",
       "      <td>39.411</td>\n",
       "    </tr>\n",
       "    <tr>\n",
       "      <th>4</th>\n",
       "      <td>13.565</td>\n",
       "      <td>40.760</td>\n",
       "    </tr>\n",
       "  </tbody>\n",
       "</table>\n",
       "</div>"
      ],
      "text/plain": [
       "        x       y\n",
       "0  10.529  39.105\n",
       "1  10.799  40.584\n",
       "2  11.698  39.883\n",
       "3  12.851  39.411\n",
       "4  13.565  40.760"
      ]
     },
     "execution_count": 3,
     "metadata": {},
     "output_type": "execute_result"
    }
   ],
   "source": [
    "data.head()"
   ]
  },
  {
   "cell_type": "markdown",
   "metadata": {},
   "source": [
    "- Plot data"
   ]
  },
  {
   "cell_type": "code",
   "execution_count": 4,
   "metadata": {},
   "outputs": [
    {
     "data": {
      "image/png": "[encoded data removed]",
      "text/plain": [
       "<Figure size 576x432 with 1 Axes>"
      ]
     },
     "metadata": {
      "needs_background": "light"
     },
     "output_type": "display_data"
    }
   ],
   "source": [
    "data.plot.scatter(x='x',y='y', title='Data plot',c='blue', figsize=(8,6));"
   ]
  },
  {
   "cell_type": "markdown",
   "metadata": {},
   "source": [
    "- Fit the curve"
   ]
  },
  {
   "cell_type": "code",
   "execution_count": 5,
   "metadata": {},
   "outputs": [],
   "source": [
    "# create an sklearn Linear regression object\n",
    "model = LinearRegression()\n",
    "# prepare x data, and reshape it from (50,) to (50,1)\n",
    "x = data.x.values.reshape(-1,1)\n",
    "x_log = np.log(x)\n",
    "# prepare y data, and reshape it from (50,) to (50,1)\n",
    "y = data.y.values.reshape(-1,1)\n",
    "# fit the model\n",
    "model.fit(x_log, y)\n",
    "# calculate predictions for x data\n",
    "y_pred = model.predict(x_log)"
   ]
  },
  {
   "cell_type": "markdown",
   "metadata": {},
   "source": [
    "- Plot it"
   ]
  },
  {
   "cell_type": "code",
   "execution_count": 6,
   "metadata": {},
   "outputs": [
    {
     "data": {
      "image/png": "[encoded data removed]",
      "text/plain": [
       "<Figure size 576x432 with 1 Axes>"
      ]
     },
     "metadata": {
      "needs_background": "light"
     },
     "output_type": "display_data"
    }
   ],
   "source": [
    "data.plot.scatter(x='x',y='y', title='Data plot',c='blue', figsize=(8,6), label='Data');\n",
    "plt.plot(x, y_pred, color='red', linewidth=2, label='Predition');\n",
    "plt.legend();"
   ]
  },
  {
   "cell_type": "markdown",
   "metadata": {},
   "source": [
    "- Compute the $RSS$ and $R^2$ measures"
   ]
  },
  {
   "cell_type": "code",
   "execution_count": 7,
   "metadata": {},
   "outputs": [
    {
     "name": "stdout",
     "output_type": "stream",
     "text": [
      "RSS= 31.842651752756762, R^2 = 0.9411567093138287\n"
     ]
    }
   ],
   "source": [
    "RSS = np.sum(np.square(y - y_pred))\n",
    "R2 = r2_score(y, y_pred)\n",
    "print(f'RSS= {RSS}, R^2 = {R2}')"
   ]
  },
  {
   "cell_type": "markdown",
   "metadata": {},
   "source": [
    "- Discuss the results, is it a good $R^2$ score?"
   ]
  },
  {
   "cell_type": "markdown",
   "metadata": {},
   "source": [
    "The model explains 94% of the variance. It's a good $R^2$ for training data.\n",
    "\n",
    "# Task 2\n",
    "\n",
    "The second task consists of fitting a model to a set of data points that contains outliers.<br>\n",
    "The goal is to try and compare different approaches to handle outliers. Use the train/test\n",
    "split methodology (ex. 80-20 splits) and compare the test MAE score for each one of the\n",
    "following approaches\n",
    "1. Fit a linear regression with the outliers\n",
    "2. Fit a huber regression with the outliers\n",
    "3. Fit a linear regression without the outliers\n",
    "\n",
    "\n",
    "- Read the data and show first rows"
   ]
  },
  {
   "cell_type": "code",
   "execution_count": 8,
   "metadata": {},
   "outputs": [
    {
     "data": {
      "text/html": [
       "<div>\n",
       "<style scoped>\n",
       "    .dataframe tbody tr th:only-of-type {\n",
       "        vertical-align: middle;\n",
       "    }\n",
       "\n",
       "    .dataframe tbody tr th {\n",
       "        vertical-align: top;\n",
       "    }\n",
       "\n",
       "    .dataframe thead th {\n",
       "        text-align: right;\n",
       "    }\n",
       "</style>\n",
       "<table border=\"1\" class=\"dataframe\">\n",
       "  <thead>\n",
       "    <tr style=\"text-align: right;\">\n",
       "      <th></th>\n",
       "      <th>x1</th>\n",
       "      <th>x2</th>\n",
       "      <th>x3</th>\n",
       "      <th>y</th>\n",
       "    </tr>\n",
       "  </thead>\n",
       "  <tbody>\n",
       "    <tr>\n",
       "      <th>0</th>\n",
       "      <td>7.892</td>\n",
       "      <td>318.818</td>\n",
       "      <td>162.970</td>\n",
       "      <td>2112.420</td>\n",
       "    </tr>\n",
       "    <tr>\n",
       "      <th>1</th>\n",
       "      <td>8.830</td>\n",
       "      <td>303.180</td>\n",
       "      <td>181.399</td>\n",
       "      <td>2096.231</td>\n",
       "    </tr>\n",
       "    <tr>\n",
       "      <th>2</th>\n",
       "      <td>13.811</td>\n",
       "      <td>296.231</td>\n",
       "      <td>145.849</td>\n",
       "      <td>2067.045</td>\n",
       "    </tr>\n",
       "    <tr>\n",
       "      <th>3</th>\n",
       "      <td>12.863</td>\n",
       "      <td>325.830</td>\n",
       "      <td>167.996</td>\n",
       "      <td>2269.262</td>\n",
       "    </tr>\n",
       "    <tr>\n",
       "      <th>4</th>\n",
       "      <td>13.698</td>\n",
       "      <td>254.035</td>\n",
       "      <td>171.892</td>\n",
       "      <td>1966.604</td>\n",
       "    </tr>\n",
       "  </tbody>\n",
       "</table>\n",
       "</div>"
      ],
      "text/plain": [
       "       x1       x2       x3         y\n",
       "0   7.892  318.818  162.970  2112.420\n",
       "1   8.830  303.180  181.399  2096.231\n",
       "2  13.811  296.231  145.849  2067.045\n",
       "3  12.863  325.830  167.996  2269.262\n",
       "4  13.698  254.035  171.892  1966.604"
      ]
     },
     "execution_count": 8,
     "metadata": {},
     "output_type": "execute_result"
    }
   ],
   "source": [
    "data=pd.read_csv('task-2.csv')\n",
    "data.head()"
   ]
  },
  {
   "cell_type": "code",
   "execution_count": 9,
   "metadata": {},
   "outputs": [
    {
     "data": {
      "text/plain": [
       "(1000, 4)"
      ]
     },
     "execution_count": 9,
     "metadata": {},
     "output_type": "execute_result"
    }
   ],
   "source": [
    "data.shape"
   ]
  },
  {
   "cell_type": "markdown",
   "metadata": {},
   "source": [
    "- prepare X and Y data"
   ]
  },
  {
   "cell_type": "code",
   "execution_count": 10,
   "metadata": {},
   "outputs": [],
   "source": [
    "data_train, data_test = train_test_split(data, train_size=0.8, test_size=0.2, random_state=0)\n",
    "X_train = data_train.iloc[:,:-1]\n",
    "Y_train = data_train.y\n",
    "X_test = data_test.iloc[:,:-1]\n",
    "Y_test = data_test.y"
   ]
  },
  {
   "cell_type": "code",
   "execution_count": 11,
   "metadata": {},
   "outputs": [],
   "source": [
    "# this function fits a model, shows it's MAE and return it\n",
    "def fit_model(model,X_train,Y_train,X_test, Y_test):\n",
    "    model.fit(X_train, Y_train)\n",
    "    y_train_pred = model.predict(X_train)\n",
    "    y_test_pred = model.predict(X_test)\n",
    "\n",
    "    MAE_train = mean_absolute_error(Y_train, y_train_pred)\n",
    "    MAE_test = mean_absolute_error(Y_test, y_test_pred)\n",
    "\n",
    "    print (f'Train : MAE = {MAE_train}')\n",
    "    print (f'Test : MAE = {MAE_test}')\n",
    "    return [MAE_train, MAE_test]"
   ]
  },
  {
   "cell_type": "markdown",
   "metadata": {},
   "source": [
    "1. Fit a linear regression with the outliers"
   ]
  },
  {
   "cell_type": "code",
   "execution_count": 12,
   "metadata": {},
   "outputs": [
    {
     "name": "stdout",
     "output_type": "stream",
     "text": [
      "Train : MAE = 119.66641210758226\n",
      "Test : MAE = 104.78843301492125\n"
     ]
    }
   ],
   "source": [
    "lr = fit_model(LinearRegression(), X_train,Y_train,X_test, Y_test)"
   ]
  },
  {
   "cell_type": "markdown",
   "metadata": {},
   "source": [
    "2. Fit a huber regression with the outliers"
   ]
  },
  {
   "cell_type": "code",
   "execution_count": 13,
   "metadata": {},
   "outputs": [
    {
     "name": "stdout",
     "output_type": "stream",
     "text": [
      "Train : MAE = 111.87059704913405\n",
      "Test : MAE = 83.90812414556166\n"
     ]
    }
   ],
   "source": [
    "huber = fit_model(HuberRegressor(), X_train,Y_train,X_test, Y_test)"
   ]
  },
  {
   "cell_type": "markdown",
   "metadata": {},
   "source": [
    "3. Fit a linear regression without the outliers"
   ]
  },
  {
   "cell_type": "code",
   "execution_count": 14,
   "metadata": {},
   "outputs": [
    {
     "name": "stdout",
     "output_type": "stream",
     "text": [
      "Train : MAE = 67.40532322054833\n",
      "Test : MAE = 71.05466142498531\n"
     ]
    }
   ],
   "source": [
    "outliers_flag = (np.abs(zscore(X_train)) > 3).any(axis=1)\n",
    "no_lr = fit_model(LinearRegression(), X_train[~outliers_flag],Y_train[~outliers_flag],X_test, Y_test)"
   ]
  },
  {
   "cell_type": "markdown",
   "metadata": {},
   "source": [
    "The Following table resumes performance of each model in test and train data"
   ]
  },
  {
   "cell_type": "code",
   "execution_count": 15,
   "metadata": {},
   "outputs": [
    {
     "data": {
      "text/html": [
       "<div>\n",
       "<style scoped>\n",
       "    .dataframe tbody tr th:only-of-type {\n",
       "        vertical-align: middle;\n",
       "    }\n",
       "\n",
       "    .dataframe tbody tr th {\n",
       "        vertical-align: top;\n",
       "    }\n",
       "\n",
       "    .dataframe thead th {\n",
       "        text-align: right;\n",
       "    }\n",
       "</style>\n",
       "<table border=\"1\" class=\"dataframe\">\n",
       "  <thead>\n",
       "    <tr style=\"text-align: right;\">\n",
       "      <th></th>\n",
       "      <th>MAE_train</th>\n",
       "      <th>MAE_test</th>\n",
       "    </tr>\n",
       "  </thead>\n",
       "  <tbody>\n",
       "    <tr>\n",
       "      <th>Linear Regression</th>\n",
       "      <td>119.666412</td>\n",
       "      <td>104.788433</td>\n",
       "    </tr>\n",
       "    <tr>\n",
       "      <th>Huber Regression</th>\n",
       "      <td>111.870597</td>\n",
       "      <td>83.908124</td>\n",
       "    </tr>\n",
       "    <tr>\n",
       "      <th>Linear Regression Without Outliers</th>\n",
       "      <td>67.405323</td>\n",
       "      <td>71.054661</td>\n",
       "    </tr>\n",
       "  </tbody>\n",
       "</table>\n",
       "</div>"
      ],
      "text/plain": [
       "                                     MAE_train    MAE_test\n",
       "Linear Regression                   119.666412  104.788433\n",
       "Huber Regression                    111.870597   83.908124\n",
       "Linear Regression Without Outliers   67.405323   71.054661"
      ]
     },
     "execution_count": 15,
     "metadata": {},
     "output_type": "execute_result"
    }
   ],
   "source": [
    "tab = pd.DataFrame([lr,huber,no_lr], columns = ['MAE_train', 'MAE_test'], index=['Linear Regression', 'Huber Regression', 'Linear Regression Without Outliers'])\n",
    "tab"
   ]
  },
  {
   "cell_type": "markdown",
   "metadata": {},
   "source": [
    "We can see that The linear regression without outliers and huber regression models perform better than the linear regression with outliers. The MAE is lower for these models."
   ]
  },
  {
   "cell_type": "code",
   "execution_count": null,
   "metadata": {},
   "outputs": [],
   "source": []
  }
 ],
 "metadata": {
  "kernelspec": {
   "display_name": "Python 3",
   "language": "python",
   "name": "python3"
  },
  "language_info": {
   "codemirror_mode": {
    "name": "ipython",
    "version": 3
   },
   "file_extension": ".py",
   "mimetype": "text/x-python",
   "name": "python",
   "nbconvert_exporter": "python",
   "pygments_lexer": "ipython3",
   "version": "3.6.10"
  }
 },
 "nbformat": 4,
 "nbformat_minor": 4
}
